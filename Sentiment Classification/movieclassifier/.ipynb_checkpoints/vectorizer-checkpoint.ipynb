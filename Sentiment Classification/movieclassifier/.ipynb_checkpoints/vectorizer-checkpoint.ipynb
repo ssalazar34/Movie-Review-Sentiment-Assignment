{
 "cells": [
  {
   "cell_type": "code",
   "execution_count": 1,
   "id": "ece98b17",
   "metadata": {},
   "outputs": [],
   "source": [
    "from sklearn.feature_extraction.text import HashingVectorizer\n",
    "import re \n",
    "import os\n",
    "import pickle"
   ]
  },
  {
   "cell_type": "code",
   "execution_count": 7,
   "id": "139ab81d",
   "metadata": {},
   "outputs": [],
   "source": [
    "cur_dir = os.path.dirname ('Salazar_MovieReviewClassification')\n",
    "stop = pickle.load(open(\n",
    "                os.path.join(cur_dir,\n",
    "                'pkl_objects',\n",
    "                'stopwords.pkl'), 'rb'))\n",
    "\n",
    "def tokenizer(text): \n",
    "    text = re.sub('<[^>]*>','', text)\n",
    "    emoticons = re.findall('(?::|;|=) (?;-)?(?:\\)|\\(|D|P)',\n",
    "                          text.lower())\n",
    "    text = re.sub('[\\W]+', ' ', text.lowe()) \\\n",
    "                    +' '.join(emoticons).replace('-', '')\n",
    "    tokenized = [w for w in text.split() if w not in stop]\n",
    "    return tokenized\n",
    "\n",
    "vect = HashingVectorizer(decode_error='ignore',\n",
    "                        n_features = 2**21,\n",
    "                        preprocessor=None,\n",
    "                        tokenizer=tokenizer)"
   ]
  },
  {
   "cell_type": "code",
   "execution_count": null,
   "id": "44f78e6b",
   "metadata": {},
   "outputs": [],
   "source": []
  }
 ],
 "metadata": {
  "kernelspec": {
   "display_name": "Python 3 (ipykernel)",
   "language": "python",
   "name": "python3"
  },
  "language_info": {
   "codemirror_mode": {
    "name": "ipython",
    "version": 3
   },
   "file_extension": ".py",
   "mimetype": "text/x-python",
   "name": "python",
   "nbconvert_exporter": "python",
   "pygments_lexer": "ipython3",
   "version": "3.9.13"
  }
 },
 "nbformat": 4,
 "nbformat_minor": 5
}
